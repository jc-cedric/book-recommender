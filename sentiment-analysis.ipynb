{
 "cells": [
  {
   "cell_type": "code",
   "id": "initial_id",
   "metadata": {
    "collapsed": true,
    "ExecuteTime": {
     "end_time": "2025-02-06T14:16:20.679260Z",
     "start_time": "2025-02-06T14:16:20.609518Z"
    }
   },
   "source": [
    "import pandas as pd\n",
    "from keras.src.backend.jax.math import top_k\n",
    "\n",
    "books = pd.read_csv('./data/books_with_categories.csv')"
   ],
   "outputs": [],
   "execution_count": 1
  },
  {
   "metadata": {
    "ExecuteTime": {
     "end_time": "2025-02-06T14:29:55.265967Z",
     "start_time": "2025-02-06T14:29:54.013493Z"
    }
   },
   "cell_type": "code",
   "source": [
    "from transformers import pipeline\n",
    "classifier = pipeline(\"text-classification\",\n",
    "                      model=\"j-hartmann/emotion-english-distilroberta-base\",\n",
    "                      top_k=None)\n",
    "classifier(\"I love this!\")"
   ],
   "id": "7d281a2bdb912f70",
   "outputs": [
    {
     "name": "stderr",
     "output_type": "stream",
     "text": [
      "All model checkpoint layers were used when initializing TFRobertaForSequenceClassification.\n",
      "\n",
      "All the layers of TFRobertaForSequenceClassification were initialized from the model checkpoint at j-hartmann/emotion-english-distilroberta-base.\n",
      "If your task is similar to the task the model of the checkpoint was trained on, you can already use TFRobertaForSequenceClassification for predictions without further training.\n",
      "Device set to use 0\n"
     ]
    },
    {
     "data": {
      "text/plain": [
       "[[{'label': 'joy', 'score': 0.9771687984466553},\n",
       "  {'label': 'surprise', 'score': 0.008528667502105236},\n",
       "  {'label': 'neutral', 'score': 0.005764583125710487},\n",
       "  {'label': 'anger', 'score': 0.004419773351401091},\n",
       "  {'label': 'sadness', 'score': 0.0020923905540257692},\n",
       "  {'label': 'disgust', 'score': 0.0016119893407449126},\n",
       "  {'label': 'fear', 'score': 0.00041385178337804973}]]"
      ]
     },
     "execution_count": 3,
     "metadata": {},
     "output_type": "execute_result"
    }
   ],
   "execution_count": 3
  },
  {
   "metadata": {
    "ExecuteTime": {
     "end_time": "2025-02-06T14:31:55.137781Z",
     "start_time": "2025-02-06T14:31:55.130695Z"
    }
   },
   "cell_type": "code",
   "source": "books[\"description\"][0]",
   "id": "e2b282e4d8168c15",
   "outputs": [
    {
     "data": {
      "text/plain": [
       "'A NOVEL THAT READERS and critics have been eagerly anticipating for over a decade, Gilead is an astonishingly imagined story of remarkable lives. John Ames is a preacher, the son of a preacher and the grandson (both maternal and paternal) of preachers. It’s 1956 in Gilead, Iowa, towards the end of the Reverend Ames’s life, and he is absorbed in recording his family’s story, a legacy for the young son he will never see grow up. Haunted by his grandfather’s presence, John tells of the rift between his grandfather and his father: the elder, an angry visionary who fought for the abolitionist cause, and his son, an ardent pacifist. He is troubled, too, by his prodigal namesake, Jack (John Ames) Boughton, his best friend’s lost son who returns to Gilead searching for forgiveness and redemption. Told in John Ames’s joyous, rambling voice that finds beauty, humour and truth in the smallest of life’s details, Gilead is a song of celebration and acceptance of the best and the worst the world has to offer. At its heart is a tale of the sacred bonds between fathers and sons, pitch-perfect in style and story, set to dazzle critics and readers alike.'"
      ]
     },
     "execution_count": 4,
     "metadata": {},
     "output_type": "execute_result"
    }
   ],
   "execution_count": 4
  },
  {
   "metadata": {
    "ExecuteTime": {
     "end_time": "2025-02-06T14:33:07.069684Z",
     "start_time": "2025-02-06T14:33:06.673718Z"
    }
   },
   "cell_type": "code",
   "source": "classifier(books[\"description\"][0])",
   "id": "c6c5a462f5d04415",
   "outputs": [
    {
     "data": {
      "text/plain": [
       "[[{'label': 'fear', 'score': 0.6548417806625366},\n",
       "  {'label': 'neutral', 'score': 0.1698516309261322},\n",
       "  {'label': 'sadness', 'score': 0.11640890687704086},\n",
       "  {'label': 'surprise', 'score': 0.0207006074488163},\n",
       "  {'label': 'disgust', 'score': 0.019100703299045563},\n",
       "  {'label': 'joy', 'score': 0.015161249786615372},\n",
       "  {'label': 'anger', 'score': 0.003935127519071102}]]"
      ]
     },
     "execution_count": 5,
     "metadata": {},
     "output_type": "execute_result"
    }
   ],
   "execution_count": 5
  },
  {
   "metadata": {
    "ExecuteTime": {
     "end_time": "2025-02-06T14:34:10.077519Z",
     "start_time": "2025-02-06T14:34:08.745573Z"
    }
   },
   "cell_type": "code",
   "source": "classifier(books[\"description\"][0].split(\".\"))",
   "id": "eb2977c424fb6d50",
   "outputs": [
    {
     "data": {
      "text/plain": [
       "[[{'label': 'surprise', 'score': 0.7296022772789001},\n",
       "  {'label': 'neutral', 'score': 0.14038585126399994},\n",
       "  {'label': 'fear', 'score': 0.06816226243972778},\n",
       "  {'label': 'joy', 'score': 0.04794261232018471},\n",
       "  {'label': 'anger', 'score': 0.00915636494755745},\n",
       "  {'label': 'disgust', 'score': 0.0026284849736839533},\n",
       "  {'label': 'sadness', 'score': 0.0021221621427685022}],\n",
       " [{'label': 'neutral', 'score': 0.4493705630302429},\n",
       "  {'label': 'disgust', 'score': 0.27359190583229065},\n",
       "  {'label': 'joy', 'score': 0.10908268392086029},\n",
       "  {'label': 'sadness', 'score': 0.09362725913524628},\n",
       "  {'label': 'anger', 'score': 0.040478307753801346},\n",
       "  {'label': 'surprise', 'score': 0.02697012573480606},\n",
       "  {'label': 'fear', 'score': 0.006879064720124006}],\n",
       " [{'label': 'neutral', 'score': 0.6462156176567078},\n",
       "  {'label': 'sadness', 'score': 0.24273355305194855},\n",
       "  {'label': 'disgust', 'score': 0.04342271760106087},\n",
       "  {'label': 'surprise', 'score': 0.028300609439611435},\n",
       "  {'label': 'joy', 'score': 0.014211488887667656},\n",
       "  {'label': 'fear', 'score': 0.014084110036492348},\n",
       "  {'label': 'anger', 'score': 0.011031911708414555}],\n",
       " [{'label': 'fear', 'score': 0.9281679391860962},\n",
       "  {'label': 'anger', 'score': 0.03219103440642357},\n",
       "  {'label': 'neutral', 'score': 0.012808728031814098},\n",
       "  {'label': 'sadness', 'score': 0.008756892755627632},\n",
       "  {'label': 'surprise', 'score': 0.008597934618592262},\n",
       "  {'label': 'disgust', 'score': 0.008431848138570786},\n",
       "  {'label': 'joy', 'score': 0.0010455828160047531}],\n",
       " [{'label': 'sadness', 'score': 0.9671576619148254},\n",
       "  {'label': 'neutral', 'score': 0.0151040805503726},\n",
       "  {'label': 'disgust', 'score': 0.006480562034994364},\n",
       "  {'label': 'fear', 'score': 0.00539396284148097},\n",
       "  {'label': 'surprise', 'score': 0.0022869326639920473},\n",
       "  {'label': 'anger', 'score': 0.0018428834155201912},\n",
       "  {'label': 'joy', 'score': 0.0017338707111775875}],\n",
       " [{'label': 'joy', 'score': 0.9327983260154724},\n",
       "  {'label': 'disgust', 'score': 0.03771689906716347},\n",
       "  {'label': 'neutral', 'score': 0.01589181460440159},\n",
       "  {'label': 'sadness', 'score': 0.006444479338824749},\n",
       "  {'label': 'anger', 'score': 0.0050249551422894},\n",
       "  {'label': 'surprise', 'score': 0.0015812033088877797},\n",
       "  {'label': 'fear', 'score': 0.0005423050024546683}],\n",
       " [{'label': 'joy', 'score': 0.6528705954551697},\n",
       "  {'label': 'neutral', 'score': 0.25427472591400146},\n",
       "  {'label': 'surprise', 'score': 0.06808307021856308},\n",
       "  {'label': 'sadness', 'score': 0.009909005835652351},\n",
       "  {'label': 'disgust', 'score': 0.006512212101370096},\n",
       "  {'label': 'anger', 'score': 0.0048213195987045765},\n",
       "  {'label': 'fear', 'score': 0.0035290163941681385}],\n",
       " [{'label': 'neutral', 'score': 0.5494768023490906},\n",
       "  {'label': 'sadness', 'score': 0.11169024556875229},\n",
       "  {'label': 'disgust', 'score': 0.10400669276714325},\n",
       "  {'label': 'surprise', 'score': 0.07876546680927277},\n",
       "  {'label': 'anger', 'score': 0.06413359940052032},\n",
       "  {'label': 'fear', 'score': 0.0513627789914608},\n",
       "  {'label': 'joy', 'score': 0.0405643992125988}]]"
      ]
     },
     "execution_count": 6,
     "metadata": {},
     "output_type": "execute_result"
    }
   ],
   "execution_count": 6
  },
  {
   "metadata": {
    "ExecuteTime": {
     "end_time": "2025-02-06T14:35:28.717304Z",
     "start_time": "2025-02-06T14:35:27.464988Z"
    }
   },
   "cell_type": "code",
   "source": [
    "sentences = books[\"description\"][0].split(\".\")\n",
    "predictions = classifier(sentences)"
   ],
   "id": "3312031f178e7c9e",
   "outputs": [],
   "execution_count": 8
  },
  {
   "metadata": {
    "ExecuteTime": {
     "end_time": "2025-02-06T14:35:48.364021Z",
     "start_time": "2025-02-06T14:35:48.358535Z"
    }
   },
   "cell_type": "code",
   "source": "sentences[0]",
   "id": "8c9684d1a731d907",
   "outputs": [
    {
     "data": {
      "text/plain": [
       "'A NOVEL THAT READERS and critics have been eagerly anticipating for over a decade, Gilead is an astonishingly imagined story of remarkable lives'"
      ]
     },
     "execution_count": 9,
     "metadata": {},
     "output_type": "execute_result"
    }
   ],
   "execution_count": 9
  },
  {
   "metadata": {
    "ExecuteTime": {
     "end_time": "2025-02-06T14:35:52.314198Z",
     "start_time": "2025-02-06T14:35:52.308942Z"
    }
   },
   "cell_type": "code",
   "source": "predictions[0]",
   "id": "1a82973fd8b902d1",
   "outputs": [
    {
     "data": {
      "text/plain": [
       "[{'label': 'surprise', 'score': 0.7296022772789001},\n",
       " {'label': 'neutral', 'score': 0.14038585126399994},\n",
       " {'label': 'fear', 'score': 0.06816226243972778},\n",
       " {'label': 'joy', 'score': 0.04794261232018471},\n",
       " {'label': 'anger', 'score': 0.00915636494755745},\n",
       " {'label': 'disgust', 'score': 0.0026284849736839533},\n",
       " {'label': 'sadness', 'score': 0.0021221621427685022}]"
      ]
     },
     "execution_count": 10,
     "metadata": {},
     "output_type": "execute_result"
    }
   ],
   "execution_count": 10
  },
  {
   "metadata": {
    "ExecuteTime": {
     "end_time": "2025-02-06T14:36:59.927592Z",
     "start_time": "2025-02-06T14:36:59.921983Z"
    }
   },
   "cell_type": "code",
   "source": "sentences[3]",
   "id": "54ad43fe601ad10d",
   "outputs": [
    {
     "data": {
      "text/plain": [
       "' Haunted by his grandfather’s presence, John tells of the rift between his grandfather and his father: the elder, an angry visionary who fought for the abolitionist cause, and his son, an ardent pacifist'"
      ]
     },
     "execution_count": 11,
     "metadata": {},
     "output_type": "execute_result"
    }
   ],
   "execution_count": 11
  },
  {
   "metadata": {
    "ExecuteTime": {
     "end_time": "2025-02-06T14:37:06.763383Z",
     "start_time": "2025-02-06T14:37:06.756752Z"
    }
   },
   "cell_type": "code",
   "source": "predictions[3]",
   "id": "e7455c2ff01cd50c",
   "outputs": [
    {
     "data": {
      "text/plain": [
       "[{'label': 'fear', 'score': 0.9281679391860962},\n",
       " {'label': 'anger', 'score': 0.03219103440642357},\n",
       " {'label': 'neutral', 'score': 0.012808728031814098},\n",
       " {'label': 'sadness', 'score': 0.008756892755627632},\n",
       " {'label': 'surprise', 'score': 0.008597934618592262},\n",
       " {'label': 'disgust', 'score': 0.008431848138570786},\n",
       " {'label': 'joy', 'score': 0.0010455828160047531}]"
      ]
     },
     "execution_count": 12,
     "metadata": {},
     "output_type": "execute_result"
    }
   ],
   "execution_count": 12
  },
  {
   "metadata": {
    "ExecuteTime": {
     "end_time": "2025-02-06T14:48:02.628644Z",
     "start_time": "2025-02-06T14:48:02.618125Z"
    }
   },
   "cell_type": "code",
   "source": "predictions",
   "id": "72db32553fa170",
   "outputs": [
    {
     "data": {
      "text/plain": [
       "[[{'label': 'surprise', 'score': 0.7296022772789001},\n",
       "  {'label': 'neutral', 'score': 0.14038585126399994},\n",
       "  {'label': 'fear', 'score': 0.06816226243972778},\n",
       "  {'label': 'joy', 'score': 0.04794261232018471},\n",
       "  {'label': 'anger', 'score': 0.00915636494755745},\n",
       "  {'label': 'disgust', 'score': 0.0026284849736839533},\n",
       "  {'label': 'sadness', 'score': 0.0021221621427685022}],\n",
       " [{'label': 'neutral', 'score': 0.4493705630302429},\n",
       "  {'label': 'disgust', 'score': 0.27359190583229065},\n",
       "  {'label': 'joy', 'score': 0.10908268392086029},\n",
       "  {'label': 'sadness', 'score': 0.09362725913524628},\n",
       "  {'label': 'anger', 'score': 0.040478307753801346},\n",
       "  {'label': 'surprise', 'score': 0.02697012573480606},\n",
       "  {'label': 'fear', 'score': 0.006879064720124006}],\n",
       " [{'label': 'neutral', 'score': 0.6462156176567078},\n",
       "  {'label': 'sadness', 'score': 0.24273355305194855},\n",
       "  {'label': 'disgust', 'score': 0.04342271760106087},\n",
       "  {'label': 'surprise', 'score': 0.028300609439611435},\n",
       "  {'label': 'joy', 'score': 0.014211488887667656},\n",
       "  {'label': 'fear', 'score': 0.014084110036492348},\n",
       "  {'label': 'anger', 'score': 0.011031911708414555}],\n",
       " [{'label': 'fear', 'score': 0.9281679391860962},\n",
       "  {'label': 'anger', 'score': 0.03219103440642357},\n",
       "  {'label': 'neutral', 'score': 0.012808728031814098},\n",
       "  {'label': 'sadness', 'score': 0.008756892755627632},\n",
       "  {'label': 'surprise', 'score': 0.008597934618592262},\n",
       "  {'label': 'disgust', 'score': 0.008431848138570786},\n",
       "  {'label': 'joy', 'score': 0.0010455828160047531}],\n",
       " [{'label': 'sadness', 'score': 0.9671576619148254},\n",
       "  {'label': 'neutral', 'score': 0.0151040805503726},\n",
       "  {'label': 'disgust', 'score': 0.006480562034994364},\n",
       "  {'label': 'fear', 'score': 0.00539396284148097},\n",
       "  {'label': 'surprise', 'score': 0.0022869326639920473},\n",
       "  {'label': 'anger', 'score': 0.0018428834155201912},\n",
       "  {'label': 'joy', 'score': 0.0017338707111775875}],\n",
       " [{'label': 'joy', 'score': 0.9327983260154724},\n",
       "  {'label': 'disgust', 'score': 0.03771689906716347},\n",
       "  {'label': 'neutral', 'score': 0.01589181460440159},\n",
       "  {'label': 'sadness', 'score': 0.006444479338824749},\n",
       "  {'label': 'anger', 'score': 0.0050249551422894},\n",
       "  {'label': 'surprise', 'score': 0.0015812033088877797},\n",
       "  {'label': 'fear', 'score': 0.0005423050024546683}],\n",
       " [{'label': 'joy', 'score': 0.6528705954551697},\n",
       "  {'label': 'neutral', 'score': 0.25427472591400146},\n",
       "  {'label': 'surprise', 'score': 0.06808307021856308},\n",
       "  {'label': 'sadness', 'score': 0.009909005835652351},\n",
       "  {'label': 'disgust', 'score': 0.006512212101370096},\n",
       "  {'label': 'anger', 'score': 0.0048213195987045765},\n",
       "  {'label': 'fear', 'score': 0.0035290163941681385}],\n",
       " [{'label': 'neutral', 'score': 0.5494768023490906},\n",
       "  {'label': 'sadness', 'score': 0.11169024556875229},\n",
       "  {'label': 'disgust', 'score': 0.10400669276714325},\n",
       "  {'label': 'surprise', 'score': 0.07876546680927277},\n",
       "  {'label': 'anger', 'score': 0.06413359940052032},\n",
       "  {'label': 'fear', 'score': 0.0513627789914608},\n",
       "  {'label': 'joy', 'score': 0.0405643992125988}]]"
      ]
     },
     "execution_count": 13,
     "metadata": {},
     "output_type": "execute_result"
    }
   ],
   "execution_count": 13
  },
  {
   "metadata": {
    "ExecuteTime": {
     "end_time": "2025-02-06T14:49:25.326306Z",
     "start_time": "2025-02-06T14:49:25.320139Z"
    }
   },
   "cell_type": "code",
   "source": "sorted(predictions[0], key=lambda x: x[\"label\"])",
   "id": "7a337dc4f4b1957",
   "outputs": [
    {
     "data": {
      "text/plain": [
       "[{'label': 'anger', 'score': 0.00915636494755745},\n",
       " {'label': 'disgust', 'score': 0.0026284849736839533},\n",
       " {'label': 'fear', 'score': 0.06816226243972778},\n",
       " {'label': 'joy', 'score': 0.04794261232018471},\n",
       " {'label': 'neutral', 'score': 0.14038585126399994},\n",
       " {'label': 'sadness', 'score': 0.0021221621427685022},\n",
       " {'label': 'surprise', 'score': 0.7296022772789001}]"
      ]
     },
     "execution_count": 14,
     "metadata": {},
     "output_type": "execute_result"
    }
   ],
   "execution_count": 14
  },
  {
   "metadata": {
    "ExecuteTime": {
     "end_time": "2025-02-06T15:01:00.010941Z",
     "start_time": "2025-02-06T15:01:00.003169Z"
    }
   },
   "cell_type": "code",
   "source": [
    "import numpy as np\n",
    "\n",
    "emotions_labels = [\"anger\",\"disgust\", \"fear\", \"joy\", \"sadness\", \"surprise\", \"neutral\"]\n",
    "isbn = []\n",
    "emotions_scores = {label: [] for label in emotions_labels }\n",
    "\n",
    "def calculate_max_emotion_scores(predictions):\n",
    "    per_emotion_scores = {label: [] for label in emotions_labels }\n",
    "    for prediction in predictions:\n",
    "        sorted_prediction = sorted(prediction, key=lambda x: x[\"label\"])\n",
    "        for index, label in enumerate(emotions_labels):\n",
    "            per_emotion_scores[label].append(sorted_prediction[index][\"score\"])\n",
    "        return {label: np.max(scores) for label, scores in per_emotion_scores.items()}"
   ],
   "id": "ee1ce7c0cb14e2d5",
   "outputs": [],
   "execution_count": 17
  },
  {
   "metadata": {
    "ExecuteTime": {
     "end_time": "2025-02-06T15:01:09.772314Z",
     "start_time": "2025-02-06T15:01:00.934508Z"
    }
   },
   "cell_type": "code",
   "source": [
    "for i in range(10):\n",
    "    isbn.append(books[\"isbn13\"][i])\n",
    "    sentences = books[\"description\"][i].split(\".\")\n",
    "    predictions = classifier(sentences)\n",
    "    max_scores = calculate_max_emotion_scores(predictions)\n",
    "    for label in emotions_labels:\n",
    "        emotions_scores[label].append(max_scores[label])"
   ],
   "id": "c3d051a731cc703b",
   "outputs": [],
   "execution_count": 18
  },
  {
   "metadata": {
    "ExecuteTime": {
     "end_time": "2025-02-06T15:01:21.494762Z",
     "start_time": "2025-02-06T15:01:21.491102Z"
    }
   },
   "cell_type": "code",
   "source": "emotions_scores",
   "id": "d8f7e51442f9624e",
   "outputs": [
    {
     "data": {
      "text/plain": [
       "{'anger': [0.00915636494755745,\n",
       "  0.005966841243207455,\n",
       "  0.04130098223686218,\n",
       "  0.01603620871901512,\n",
       "  0.01362436544150114,\n",
       "  0.009158490225672722,\n",
       "  0.003973875194787979,\n",
       "  0.023656269535422325,\n",
       "  0.30066978931427,\n",
       "  0.017658405005931854],\n",
       " 'disgust': [0.0026284849736839533,\n",
       "  0.002887067385017872,\n",
       "  0.024568425491452217,\n",
       "  0.06069517880678177,\n",
       "  0.12224260717630386,\n",
       "  0.012228685431182384,\n",
       "  0.0038164572324603796,\n",
       "  0.009091979824006557,\n",
       "  0.2794815003871918,\n",
       "  0.177927166223526],\n",
       " 'fear': [0.06816226243972778,\n",
       "  0.0038098772056400776,\n",
       "  0.10406124591827393,\n",
       "  0.0016916345339268446,\n",
       "  0.09504333883523941,\n",
       "  0.03679508715867996,\n",
       "  0.0012676779879257083,\n",
       "  0.4044959545135498,\n",
       "  0.08446536958217621,\n",
       "  0.0494571253657341],\n",
       " 'joy': [0.04794261232018471,\n",
       "  0.7044215202331543,\n",
       "  0.7672376036643982,\n",
       "  0.16175690293312073,\n",
       "  0.008335656486451626,\n",
       "  0.04337586462497711,\n",
       "  0.8725659251213074,\n",
       "  0.013375164940953255,\n",
       "  0.0013904990628361702,\n",
       "  0.03219769895076752],\n",
       " 'sadness': [0.14038585126399994,\n",
       "  0.21776005625724792,\n",
       "  0.04217592254281044,\n",
       "  0.7326853275299072,\n",
       "  0.27261286973953247,\n",
       "  0.6213923692703247,\n",
       "  0.07678381353616714,\n",
       "  0.2921663820743561,\n",
       "  0.02939208783209324,\n",
       "  0.6624059081077576],\n",
       " 'surprise': [0.0021221621427685022,\n",
       "  0.004508520942181349,\n",
       "  0.010859842412173748,\n",
       "  0.020988190546631813,\n",
       "  0.47588133811950684,\n",
       "  0.005146409384906292,\n",
       "  0.004652991890907288,\n",
       "  0.022726455703377724,\n",
       "  0.23277556896209717,\n",
       "  0.013540098443627357],\n",
       " 'neutral': [0.7296022772789001,\n",
       "  0.060646072030067444,\n",
       "  0.009796054102480412,\n",
       "  0.0061465660110116005,\n",
       "  0.012259818613529205,\n",
       "  0.2719031274318695,\n",
       "  0.03693929687142372,\n",
       "  0.23448775708675385,\n",
       "  0.07182519882917404,\n",
       "  0.046813566237688065]}"
      ]
     },
     "execution_count": 19,
     "metadata": {},
     "output_type": "execute_result"
    }
   ],
   "execution_count": 19
  },
  {
   "metadata": {
    "ExecuteTime": {
     "end_time": "2025-02-06T16:02:27.965240Z",
     "start_time": "2025-02-06T15:05:17.309278Z"
    }
   },
   "cell_type": "code",
   "source": [
    "from tqdm import tqdm\n",
    "\n",
    "emotions_labels = [\"anger\",\"disgust\", \"fear\", \"joy\", \"sadness\", \"surprise\", \"neutral\"]\n",
    "isbn = []\n",
    "emotions_scores = {label: [] for label in emotions_labels }\n",
    "\n",
    "for i in tqdm(range(len(books))):\n",
    "    isbn.append(books[\"isbn13\"][i])\n",
    "    sentences = books[\"description\"][i].split(\".\")\n",
    "    predictions = classifier(sentences)\n",
    "    max_scores = calculate_max_emotion_scores(predictions)\n",
    "    for label in emotions_labels:\n",
    "        emotions_scores[label].append(max_scores[label])"
   ],
   "id": "ea2a19b6ea5d540c",
   "outputs": [
    {
     "name": "stderr",
     "output_type": "stream",
     "text": [
      "100%|██████████| 5197/5197 [57:10<00:00,  1.51it/s]  \n"
     ]
    }
   ],
   "execution_count": 20
  },
  {
   "metadata": {
    "ExecuteTime": {
     "end_time": "2025-02-06T16:05:00.350518Z",
     "start_time": "2025-02-06T16:05:00.310990Z"
    }
   },
   "cell_type": "code",
   "source": [
    "emotions_df = pd.DataFrame(emotions_scores)\n",
    "emotions_df[\"isbn13\"] = isbn"
   ],
   "id": "5dac1e6ef8d64e7c",
   "outputs": [],
   "execution_count": 21
  },
  {
   "metadata": {
    "ExecuteTime": {
     "end_time": "2025-02-06T16:05:01.851242Z",
     "start_time": "2025-02-06T16:05:01.840041Z"
    }
   },
   "cell_type": "code",
   "source": "books = pd.merge(books, emotions_df, on=\"isbn13\")",
   "id": "ba5fe70ecca0e296",
   "outputs": [],
   "execution_count": 22
  },
  {
   "metadata": {
    "ExecuteTime": {
     "end_time": "2025-02-06T16:05:03.158198Z",
     "start_time": "2025-02-06T16:05:03.121255Z"
    }
   },
   "cell_type": "code",
   "source": "books",
   "id": "2273dce4e50461c",
   "outputs": [
    {
     "data": {
      "text/plain": [
       "             isbn13      isbn10  \\\n",
       "0     9780002005883  0002005883   \n",
       "1     9780002261982  0002261987   \n",
       "2     9780006178736  0006178731   \n",
       "3     9780006280897  0006280897   \n",
       "4     9780006280934  0006280935   \n",
       "...             ...         ...   \n",
       "5192  9788172235222  8172235224   \n",
       "5193  9788173031014  8173031010   \n",
       "5194  9788179921623  817992162X   \n",
       "5195  9788185300535  8185300534   \n",
       "5196  9789027712059  9027712050   \n",
       "\n",
       "                                                  title  \\\n",
       "0                                                Gilead   \n",
       "1                                          Spider's Web   \n",
       "2                                        Rage of angels   \n",
       "3                                        The Four Loves   \n",
       "4                                   The Problem of Pain   \n",
       "...                                                 ...   \n",
       "5192                                  Mistaken Identity   \n",
       "5193                                Journey to the East   \n",
       "5194  The Monk Who Sold His Ferrari: A Fable About F...   \n",
       "5195                                          I Am that   \n",
       "5196                           The Berlin Phenomenology   \n",
       "\n",
       "                                           authors  \\\n",
       "0                               Marilynne Robinson   \n",
       "1                  Charles Osborne;Agatha Christie   \n",
       "2                                   Sidney Sheldon   \n",
       "3                              Clive Staples Lewis   \n",
       "4                              Clive Staples Lewis   \n",
       "...                                            ...   \n",
       "5192                              Nayantara Sahgal   \n",
       "5193                                 Hermann Hesse   \n",
       "5194                                  Robin Sharma   \n",
       "5195  Sri Nisargadatta Maharaj;Sudhakar S. Dikshit   \n",
       "5196                 Georg Wilhelm Friedrich Hegel   \n",
       "\n",
       "                         categories  \\\n",
       "0                           Fiction   \n",
       "1     Detective and mystery stories   \n",
       "2                           Fiction   \n",
       "3                    Christian life   \n",
       "4                    Christian life   \n",
       "...                             ...   \n",
       "5192        Indic fiction (English)   \n",
       "5193              Adventure stories   \n",
       "5194               Health & Fitness   \n",
       "5195                     Philosophy   \n",
       "5196                        History   \n",
       "\n",
       "                                              thumbnail  \\\n",
       "0     http://books.google.com/books/content?id=KQZCP...   \n",
       "1     http://books.google.com/books/content?id=gA5GP...   \n",
       "2     http://books.google.com/books/content?id=FKo2T...   \n",
       "3     http://books.google.com/books/content?id=XhQ5X...   \n",
       "4     http://books.google.com/books/content?id=Kk-uV...   \n",
       "...                                                 ...   \n",
       "5192  http://books.google.com/books/content?id=q-tKP...   \n",
       "5193  http://books.google.com/books/content?id=rq6JP...   \n",
       "5194  http://books.google.com/books/content?id=c_7mf...   \n",
       "5195  http://books.google.com/books/content?id=Fv_JP...   \n",
       "5196  http://books.google.com/books/content?id=Vy7Sk...   \n",
       "\n",
       "                                            description  published_year  \\\n",
       "0     A NOVEL THAT READERS and critics have been eag...          2004.0   \n",
       "1     A new 'Christie for Christmas' -- a full-lengt...          2000.0   \n",
       "2     A memorable, mesmerizing heroine Jennifer -- b...          1993.0   \n",
       "3     Lewis' work on the nature of love divides love...          2002.0   \n",
       "4     \"In The Problem of Pain, C.S. Lewis, one of th...          2002.0   \n",
       "...                                                 ...             ...   \n",
       "5192  On A Train Journey Home To North India After L...          2003.0   \n",
       "5193  This book tells the tale of a man who goes on ...          2002.0   \n",
       "5194  Wisdom to Create a Life of Passion, Purpose, a...          2003.0   \n",
       "5195  This collection of the timeless teachings of o...          1999.0   \n",
       "5196  Since the three volume edition ofHegel's Philo...          1981.0   \n",
       "\n",
       "      average_rating  num_pages  ...  \\\n",
       "0               3.85      247.0  ...   \n",
       "1               3.83      241.0  ...   \n",
       "2               3.93      512.0  ...   \n",
       "3               4.15      170.0  ...   \n",
       "4               4.09      176.0  ...   \n",
       "...              ...        ...  ...   \n",
       "5192            2.93      324.0  ...   \n",
       "5193            3.70      175.0  ...   \n",
       "5194            3.82      198.0  ...   \n",
       "5195            4.51      531.0  ...   \n",
       "5196            0.00      210.0  ...   \n",
       "\n",
       "                                     title_and_subtitle  \\\n",
       "0                                                Gilead   \n",
       "1                                 Spider's Web: A Novel   \n",
       "2                                        Rage of angels   \n",
       "3                                        The Four Loves   \n",
       "4                                   The Problem of Pain   \n",
       "...                                                 ...   \n",
       "5192                                  Mistaken Identity   \n",
       "5193                                Journey to the East   \n",
       "5194  The Monk Who Sold His Ferrari: A Fable About F...   \n",
       "5195     I Am that: Talks with Sri Nisargadatta Maharaj   \n",
       "5196                           The Berlin Phenomenology   \n",
       "\n",
       "                                     tagged_description simple_categories  \\\n",
       "0     9780002005883 A NOVEL THAT READERS and critics...           Fiction   \n",
       "1     9780002261982 A new 'Christie for Christmas' -...               NaN   \n",
       "2     9780006178736 A memorable, mesmerizing heroine...           Fiction   \n",
       "3     9780006280897 Lewis' work on the nature of lov...               NaN   \n",
       "4     9780006280934 \"In The Problem of Pain, C.S. Le...               NaN   \n",
       "...                                                 ...               ...   \n",
       "5192  9788172235222 On A Train Journey Home To North...               NaN   \n",
       "5193  9788173031014 This book tells the tale of a ma...               NaN   \n",
       "5194  9788179921623 Wisdom to Create a Life of Passi...               NaN   \n",
       "5195  9788185300535 This collection of the timeless ...        Nonfiction   \n",
       "5196  9789027712059 Since the three volume edition o...        Nonfiction   \n",
       "\n",
       "         anger   disgust      fear       joy   sadness  surprise   neutral  \n",
       "0     0.009156  0.002628  0.068162  0.047943  0.140386  0.002122  0.729602  \n",
       "1     0.005967  0.002887  0.003810  0.704422  0.217760  0.004509  0.060646  \n",
       "2     0.041301  0.024568  0.104061  0.767238  0.042176  0.010860  0.009796  \n",
       "3     0.016036  0.060695  0.001692  0.161757  0.732685  0.020988  0.006147  \n",
       "4     0.013624  0.122243  0.095043  0.008336  0.272613  0.475881  0.012260  \n",
       "...        ...       ...       ...       ...       ...       ...       ...  \n",
       "5192  0.025156  0.001939  0.094667  0.002254  0.010511  0.857256  0.008218  \n",
       "5193  0.005602  0.003775  0.018216  0.400264  0.338891  0.005487  0.227765  \n",
       "5194  0.008463  0.009146  0.013295  0.620452  0.329754  0.010788  0.008101  \n",
       "5195  0.005475  0.034545  0.003970  0.258353  0.648010  0.017372  0.032275  \n",
       "5196  0.002837  0.003137  0.001166  0.958549  0.028252  0.002916  0.003142  \n",
       "\n",
       "[5197 rows x 21 columns]"
      ],
      "text/html": [
       "<div>\n",
       "<style scoped>\n",
       "    .dataframe tbody tr th:only-of-type {\n",
       "        vertical-align: middle;\n",
       "    }\n",
       "\n",
       "    .dataframe tbody tr th {\n",
       "        vertical-align: top;\n",
       "    }\n",
       "\n",
       "    .dataframe thead th {\n",
       "        text-align: right;\n",
       "    }\n",
       "</style>\n",
       "<table border=\"1\" class=\"dataframe\">\n",
       "  <thead>\n",
       "    <tr style=\"text-align: right;\">\n",
       "      <th></th>\n",
       "      <th>isbn13</th>\n",
       "      <th>isbn10</th>\n",
       "      <th>title</th>\n",
       "      <th>authors</th>\n",
       "      <th>categories</th>\n",
       "      <th>thumbnail</th>\n",
       "      <th>description</th>\n",
       "      <th>published_year</th>\n",
       "      <th>average_rating</th>\n",
       "      <th>num_pages</th>\n",
       "      <th>...</th>\n",
       "      <th>title_and_subtitle</th>\n",
       "      <th>tagged_description</th>\n",
       "      <th>simple_categories</th>\n",
       "      <th>anger</th>\n",
       "      <th>disgust</th>\n",
       "      <th>fear</th>\n",
       "      <th>joy</th>\n",
       "      <th>sadness</th>\n",
       "      <th>surprise</th>\n",
       "      <th>neutral</th>\n",
       "    </tr>\n",
       "  </thead>\n",
       "  <tbody>\n",
       "    <tr>\n",
       "      <th>0</th>\n",
       "      <td>9780002005883</td>\n",
       "      <td>0002005883</td>\n",
       "      <td>Gilead</td>\n",
       "      <td>Marilynne Robinson</td>\n",
       "      <td>Fiction</td>\n",
       "      <td>http://books.google.com/books/content?id=KQZCP...</td>\n",
       "      <td>A NOVEL THAT READERS and critics have been eag...</td>\n",
       "      <td>2004.0</td>\n",
       "      <td>3.85</td>\n",
       "      <td>247.0</td>\n",
       "      <td>...</td>\n",
       "      <td>Gilead</td>\n",
       "      <td>9780002005883 A NOVEL THAT READERS and critics...</td>\n",
       "      <td>Fiction</td>\n",
       "      <td>0.009156</td>\n",
       "      <td>0.002628</td>\n",
       "      <td>0.068162</td>\n",
       "      <td>0.047943</td>\n",
       "      <td>0.140386</td>\n",
       "      <td>0.002122</td>\n",
       "      <td>0.729602</td>\n",
       "    </tr>\n",
       "    <tr>\n",
       "      <th>1</th>\n",
       "      <td>9780002261982</td>\n",
       "      <td>0002261987</td>\n",
       "      <td>Spider's Web</td>\n",
       "      <td>Charles Osborne;Agatha Christie</td>\n",
       "      <td>Detective and mystery stories</td>\n",
       "      <td>http://books.google.com/books/content?id=gA5GP...</td>\n",
       "      <td>A new 'Christie for Christmas' -- a full-lengt...</td>\n",
       "      <td>2000.0</td>\n",
       "      <td>3.83</td>\n",
       "      <td>241.0</td>\n",
       "      <td>...</td>\n",
       "      <td>Spider's Web: A Novel</td>\n",
       "      <td>9780002261982 A new 'Christie for Christmas' -...</td>\n",
       "      <td>NaN</td>\n",
       "      <td>0.005967</td>\n",
       "      <td>0.002887</td>\n",
       "      <td>0.003810</td>\n",
       "      <td>0.704422</td>\n",
       "      <td>0.217760</td>\n",
       "      <td>0.004509</td>\n",
       "      <td>0.060646</td>\n",
       "    </tr>\n",
       "    <tr>\n",
       "      <th>2</th>\n",
       "      <td>9780006178736</td>\n",
       "      <td>0006178731</td>\n",
       "      <td>Rage of angels</td>\n",
       "      <td>Sidney Sheldon</td>\n",
       "      <td>Fiction</td>\n",
       "      <td>http://books.google.com/books/content?id=FKo2T...</td>\n",
       "      <td>A memorable, mesmerizing heroine Jennifer -- b...</td>\n",
       "      <td>1993.0</td>\n",
       "      <td>3.93</td>\n",
       "      <td>512.0</td>\n",
       "      <td>...</td>\n",
       "      <td>Rage of angels</td>\n",
       "      <td>9780006178736 A memorable, mesmerizing heroine...</td>\n",
       "      <td>Fiction</td>\n",
       "      <td>0.041301</td>\n",
       "      <td>0.024568</td>\n",
       "      <td>0.104061</td>\n",
       "      <td>0.767238</td>\n",
       "      <td>0.042176</td>\n",
       "      <td>0.010860</td>\n",
       "      <td>0.009796</td>\n",
       "    </tr>\n",
       "    <tr>\n",
       "      <th>3</th>\n",
       "      <td>9780006280897</td>\n",
       "      <td>0006280897</td>\n",
       "      <td>The Four Loves</td>\n",
       "      <td>Clive Staples Lewis</td>\n",
       "      <td>Christian life</td>\n",
       "      <td>http://books.google.com/books/content?id=XhQ5X...</td>\n",
       "      <td>Lewis' work on the nature of love divides love...</td>\n",
       "      <td>2002.0</td>\n",
       "      <td>4.15</td>\n",
       "      <td>170.0</td>\n",
       "      <td>...</td>\n",
       "      <td>The Four Loves</td>\n",
       "      <td>9780006280897 Lewis' work on the nature of lov...</td>\n",
       "      <td>NaN</td>\n",
       "      <td>0.016036</td>\n",
       "      <td>0.060695</td>\n",
       "      <td>0.001692</td>\n",
       "      <td>0.161757</td>\n",
       "      <td>0.732685</td>\n",
       "      <td>0.020988</td>\n",
       "      <td>0.006147</td>\n",
       "    </tr>\n",
       "    <tr>\n",
       "      <th>4</th>\n",
       "      <td>9780006280934</td>\n",
       "      <td>0006280935</td>\n",
       "      <td>The Problem of Pain</td>\n",
       "      <td>Clive Staples Lewis</td>\n",
       "      <td>Christian life</td>\n",
       "      <td>http://books.google.com/books/content?id=Kk-uV...</td>\n",
       "      <td>\"In The Problem of Pain, C.S. Lewis, one of th...</td>\n",
       "      <td>2002.0</td>\n",
       "      <td>4.09</td>\n",
       "      <td>176.0</td>\n",
       "      <td>...</td>\n",
       "      <td>The Problem of Pain</td>\n",
       "      <td>9780006280934 \"In The Problem of Pain, C.S. Le...</td>\n",
       "      <td>NaN</td>\n",
       "      <td>0.013624</td>\n",
       "      <td>0.122243</td>\n",
       "      <td>0.095043</td>\n",
       "      <td>0.008336</td>\n",
       "      <td>0.272613</td>\n",
       "      <td>0.475881</td>\n",
       "      <td>0.012260</td>\n",
       "    </tr>\n",
       "    <tr>\n",
       "      <th>...</th>\n",
       "      <td>...</td>\n",
       "      <td>...</td>\n",
       "      <td>...</td>\n",
       "      <td>...</td>\n",
       "      <td>...</td>\n",
       "      <td>...</td>\n",
       "      <td>...</td>\n",
       "      <td>...</td>\n",
       "      <td>...</td>\n",
       "      <td>...</td>\n",
       "      <td>...</td>\n",
       "      <td>...</td>\n",
       "      <td>...</td>\n",
       "      <td>...</td>\n",
       "      <td>...</td>\n",
       "      <td>...</td>\n",
       "      <td>...</td>\n",
       "      <td>...</td>\n",
       "      <td>...</td>\n",
       "      <td>...</td>\n",
       "      <td>...</td>\n",
       "    </tr>\n",
       "    <tr>\n",
       "      <th>5192</th>\n",
       "      <td>9788172235222</td>\n",
       "      <td>8172235224</td>\n",
       "      <td>Mistaken Identity</td>\n",
       "      <td>Nayantara Sahgal</td>\n",
       "      <td>Indic fiction (English)</td>\n",
       "      <td>http://books.google.com/books/content?id=q-tKP...</td>\n",
       "      <td>On A Train Journey Home To North India After L...</td>\n",
       "      <td>2003.0</td>\n",
       "      <td>2.93</td>\n",
       "      <td>324.0</td>\n",
       "      <td>...</td>\n",
       "      <td>Mistaken Identity</td>\n",
       "      <td>9788172235222 On A Train Journey Home To North...</td>\n",
       "      <td>NaN</td>\n",
       "      <td>0.025156</td>\n",
       "      <td>0.001939</td>\n",
       "      <td>0.094667</td>\n",
       "      <td>0.002254</td>\n",
       "      <td>0.010511</td>\n",
       "      <td>0.857256</td>\n",
       "      <td>0.008218</td>\n",
       "    </tr>\n",
       "    <tr>\n",
       "      <th>5193</th>\n",
       "      <td>9788173031014</td>\n",
       "      <td>8173031010</td>\n",
       "      <td>Journey to the East</td>\n",
       "      <td>Hermann Hesse</td>\n",
       "      <td>Adventure stories</td>\n",
       "      <td>http://books.google.com/books/content?id=rq6JP...</td>\n",
       "      <td>This book tells the tale of a man who goes on ...</td>\n",
       "      <td>2002.0</td>\n",
       "      <td>3.70</td>\n",
       "      <td>175.0</td>\n",
       "      <td>...</td>\n",
       "      <td>Journey to the East</td>\n",
       "      <td>9788173031014 This book tells the tale of a ma...</td>\n",
       "      <td>NaN</td>\n",
       "      <td>0.005602</td>\n",
       "      <td>0.003775</td>\n",
       "      <td>0.018216</td>\n",
       "      <td>0.400264</td>\n",
       "      <td>0.338891</td>\n",
       "      <td>0.005487</td>\n",
       "      <td>0.227765</td>\n",
       "    </tr>\n",
       "    <tr>\n",
       "      <th>5194</th>\n",
       "      <td>9788179921623</td>\n",
       "      <td>817992162X</td>\n",
       "      <td>The Monk Who Sold His Ferrari: A Fable About F...</td>\n",
       "      <td>Robin Sharma</td>\n",
       "      <td>Health &amp; Fitness</td>\n",
       "      <td>http://books.google.com/books/content?id=c_7mf...</td>\n",
       "      <td>Wisdom to Create a Life of Passion, Purpose, a...</td>\n",
       "      <td>2003.0</td>\n",
       "      <td>3.82</td>\n",
       "      <td>198.0</td>\n",
       "      <td>...</td>\n",
       "      <td>The Monk Who Sold His Ferrari: A Fable About F...</td>\n",
       "      <td>9788179921623 Wisdom to Create a Life of Passi...</td>\n",
       "      <td>NaN</td>\n",
       "      <td>0.008463</td>\n",
       "      <td>0.009146</td>\n",
       "      <td>0.013295</td>\n",
       "      <td>0.620452</td>\n",
       "      <td>0.329754</td>\n",
       "      <td>0.010788</td>\n",
       "      <td>0.008101</td>\n",
       "    </tr>\n",
       "    <tr>\n",
       "      <th>5195</th>\n",
       "      <td>9788185300535</td>\n",
       "      <td>8185300534</td>\n",
       "      <td>I Am that</td>\n",
       "      <td>Sri Nisargadatta Maharaj;Sudhakar S. Dikshit</td>\n",
       "      <td>Philosophy</td>\n",
       "      <td>http://books.google.com/books/content?id=Fv_JP...</td>\n",
       "      <td>This collection of the timeless teachings of o...</td>\n",
       "      <td>1999.0</td>\n",
       "      <td>4.51</td>\n",
       "      <td>531.0</td>\n",
       "      <td>...</td>\n",
       "      <td>I Am that: Talks with Sri Nisargadatta Maharaj</td>\n",
       "      <td>9788185300535 This collection of the timeless ...</td>\n",
       "      <td>Nonfiction</td>\n",
       "      <td>0.005475</td>\n",
       "      <td>0.034545</td>\n",
       "      <td>0.003970</td>\n",
       "      <td>0.258353</td>\n",
       "      <td>0.648010</td>\n",
       "      <td>0.017372</td>\n",
       "      <td>0.032275</td>\n",
       "    </tr>\n",
       "    <tr>\n",
       "      <th>5196</th>\n",
       "      <td>9789027712059</td>\n",
       "      <td>9027712050</td>\n",
       "      <td>The Berlin Phenomenology</td>\n",
       "      <td>Georg Wilhelm Friedrich Hegel</td>\n",
       "      <td>History</td>\n",
       "      <td>http://books.google.com/books/content?id=Vy7Sk...</td>\n",
       "      <td>Since the three volume edition ofHegel's Philo...</td>\n",
       "      <td>1981.0</td>\n",
       "      <td>0.00</td>\n",
       "      <td>210.0</td>\n",
       "      <td>...</td>\n",
       "      <td>The Berlin Phenomenology</td>\n",
       "      <td>9789027712059 Since the three volume edition o...</td>\n",
       "      <td>Nonfiction</td>\n",
       "      <td>0.002837</td>\n",
       "      <td>0.003137</td>\n",
       "      <td>0.001166</td>\n",
       "      <td>0.958549</td>\n",
       "      <td>0.028252</td>\n",
       "      <td>0.002916</td>\n",
       "      <td>0.003142</td>\n",
       "    </tr>\n",
       "  </tbody>\n",
       "</table>\n",
       "<p>5197 rows × 21 columns</p>\n",
       "</div>"
      ]
     },
     "execution_count": 23,
     "metadata": {},
     "output_type": "execute_result"
    }
   ],
   "execution_count": 23
  },
  {
   "metadata": {
    "ExecuteTime": {
     "end_time": "2025-02-06T16:06:58.846400Z",
     "start_time": "2025-02-06T16:06:58.760638Z"
    }
   },
   "cell_type": "code",
   "source": "books.to_csv('./data/books_with_emotions.csv', index=False)",
   "id": "d77a2f75959222e2",
   "outputs": [],
   "execution_count": 24
  },
  {
   "metadata": {},
   "cell_type": "code",
   "outputs": [],
   "execution_count": null,
   "source": "",
   "id": "128411260f911c00"
  }
 ],
 "metadata": {
  "kernelspec": {
   "display_name": "Python 3",
   "language": "python",
   "name": "python3"
  },
  "language_info": {
   "codemirror_mode": {
    "name": "ipython",
    "version": 2
   },
   "file_extension": ".py",
   "mimetype": "text/x-python",
   "name": "python",
   "nbconvert_exporter": "python",
   "pygments_lexer": "ipython2",
   "version": "2.7.6"
  }
 },
 "nbformat": 4,
 "nbformat_minor": 5
}
